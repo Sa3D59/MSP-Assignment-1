{
 "cells": [
  {
   "cell_type": "markdown",
   "metadata": {},
   "source": [
    "Without using any string methods, try to print the following:\n",
    "\n",
    "( 123...n ) as string without spaces, whare n is a given input."
   ]
  },
  {
   "cell_type": "code",
   "execution_count": null,
   "metadata": {},
   "outputs": [],
   "source": [
    "text = ''\n",
    "for i in range(1, n+1):\n",
    "    text += i\n",
    "print(n)"
   ]
  },
  {
   "cell_type": "markdown",
   "metadata": {},
   "source": [
    "Check if element exists in list in Python\n",
    "\n",
    "list = test_list = [1, 6, 3, 5, 3, 4]\n",
    "\n",
    "Input: 3  # Check if 3 exist or not.\n",
    "\n",
    "Output: True"
   ]
  },
  {
   "cell_type": "code",
   "execution_count": null,
   "metadata": {},
   "outputs": [],
   "source": [
    "print(3 in list)"
   ]
  },
  {
   "cell_type": "markdown",
   "metadata": {},
   "source": [
    "Given a list, write a Python program to swap first and last element of the list.\n",
    "\n",
    "Examples: \n",
    "\n",
    "Input : [12, 35, 9, 56, 24]\n",
    "\n",
    "Output : [24, 35, 9, 56, 12]\n",
    "\n",
    "Input : [1, 2, 3]\n",
    "\n",
    "Output : [3, 2, 1]"
   ]
  },
  {
   "cell_type": "code",
   "execution_count": null,
   "metadata": {},
   "outputs": [],
   "source": [
    "def SwapValues(list):\n",
    "    firstItem = list[0]\n",
    "    lastItem = list[-1]\n",
    "\n",
    "    list[0] = lastItem\n",
    "    list[-1] = firstItem\n",
    "\n",
    "    return list"
   ]
  },
  {
   "cell_type": "markdown",
   "metadata": {},
   "source": [
    "Read a list from user and print it after that rverse the list.\n",
    "\n",
    "Example:\n",
    "\n",
    "Input : list = [4, 5, 6, 7, 8, 9]\n",
    "\n",
    "Output : [9, 8, 7, 6, 5, 4]"
   ]
  },
  {
   "cell_type": "code",
   "execution_count": null,
   "metadata": {},
   "outputs": [],
   "source": [
    "def Reverse(list):\n",
    "    print(list)\n",
    "\n",
    "    newList = []\n",
    "    for i in range(len(list)):\n",
    "        newList.append(list.pop())\n",
    "\n",
    "    print(newList)"
   ]
  },
  {
   "cell_type": "markdown",
   "metadata": {},
   "source": [
    "We are given a string and we need to reverse words of a given string\n",
    "\n",
    "Examples:\n",
    "\n",
    "Input : str =\" geeks quiz practice code\"\n",
    "\n",
    "Output : str = code practice quiz geeks "
   ]
  },
  {
   "cell_type": "code",
   "execution_count": null,
   "metadata": {},
   "outputs": [],
   "source": [
    "def ReverseSentence(text):\n",
    "    list = text.split(' ')\n",
    "\n",
    "    newSentence = ''\n",
    "    for i in range(len(list)):\n",
    "        newSentence += list.pop() + ' '\n",
    "        \n",
    "    newSentence.rstrip()\n",
    "    print(newSentence)"
   ]
  },
  {
   "cell_type": "markdown",
   "metadata": {},
   "source": [
    "Given a string, the task is to check if every vowel is present or not. We consider a vowel to be present if it is present in upper case or lower case. i.e. ‘a’, ‘e’, ‘i’.’o’, ‘u’ or ‘A’, ‘E’, ‘I’, ‘O’, ‘U’ . \n",
    "\n",
    "Examples : \n",
    "\n",
    "Input : geeksforgeeks\n",
    "\n",
    "Output : Not Accepted\n",
    "\n",
    "    All vowels except 'a','i','u' are not present\n",
    "\n",
    "\n",
    "Input : ABeeIghiObhkUul\n",
    "\n",
    "Output : Accepted\n",
    "\n",
    "    All vowels are present"
   ]
  },
  {
   "cell_type": "code",
   "execution_count": null,
   "metadata": {},
   "outputs": [],
   "source": [
    "def Vowels(text):\n",
    "    vowels = ['a', 'e', 'i', 'o', 'u', 'A', 'E', 'I', 'O', 'U']\n",
    "\n",
    "    for char in text:\n",
    "        if char in vowels:\n",
    "            vowels.remove(char.upper())\n",
    "            vowels.remove(char.lower())\n",
    "    if len(vowels) == 0:\n",
    "        print('Accepted')\n",
    "    else:\n",
    "        print('Not Accepted')"
   ]
  },
  {
   "cell_type": "markdown",
   "metadata": {},
   "source": [
    "Factorial of a non-negative integer, is multiplication of all integers smaller than or equal to n. For example factorial of 6 is 6*5*4*3*2*1 which is 720.\n",
    "\n",
    "We are given n to calculate its factorial."
   ]
  },
  {
   "cell_type": "code",
   "execution_count": null,
   "metadata": {},
   "outputs": [],
   "source": [
    "def factorial(n):\n",
    "    if n == 1:\n",
    "        return 1\n",
    "    return n * factorial(n - 1)"
   ]
  },
  {
   "cell_type": "markdown",
   "metadata": {},
   "source": [
    "Given a character, we need to print its ASCII value\n",
    "\n",
    "Examples :\n",
    "\n",
    "Input : a \n",
    "\n",
    "Output : 97\n",
    "\n",
    "Input : D\n",
    "\n",
    "Output : 68\n",
    "\n",
    "    NOTE: search about the ord() method to can solve these problem."
   ]
  },
  {
   "cell_type": "code",
   "execution_count": null,
   "metadata": {},
   "outputs": [],
   "source": [
    "def ASCII(char):\n",
    "    print(ord(char))"
   ]
  },
  {
   "cell_type": "markdown",
   "metadata": {},
   "source": [
    "Given a positive integer N. The task is to find 12 + 22 + 32 + ….. + N2.\n",
    "\n",
    "Examples:\n",
    "\n",
    "Input : N = 4\n",
    "\n",
    "Output : 30"
   ]
  },
  {
   "cell_type": "code",
   "execution_count": null,
   "metadata": {},
   "outputs": [],
   "source": [
    "def square(n):\n",
    "    sum = 0\n",
    "    for i in range(1, n + 1):\n",
    "        sum = sum + (i*i)\n",
    "    return sum"
   ]
  },
  {
   "cell_type": "markdown",
   "metadata": {},
   "source": [
    "Given the participants' score sheet for your University Sports Day, you are required to find the runner-up score. You are given n scores. Store them in a list and find the score of the runner-up.\n",
    "\n",
    "Example:\n",
    "\n",
    "Input:\n",
    "\n",
    "    6\n",
    "    2 4 5 6 1 6\n",
    "\n",
    "Output:\n",
    "\n",
    "    5"
   ]
  },
  {
   "cell_type": "code",
   "execution_count": null,
   "metadata": {},
   "outputs": [],
   "source": [
    "def SecondPlace(n, *arg):\n",
    "    scores = []\n",
    "    for score in arg:\n",
    "        scores.append(int(score))\n",
    "\n",
    "    FirstPlace = max(scores)\n",
    "    for i in scores:\n",
    "        if i == FirstPlace:\n",
    "            scores.remove(i)\n",
    "    return max(scores)"
   ]
  }
 ],
 "metadata": {
  "kernelspec": {
   "display_name": "Python 3 (ipykernel)",
   "language": "python",
   "name": "python3"
  },
  "language_info": {
   "codemirror_mode": {
    "name": "ipython",
    "version": 3
   },
   "file_extension": ".py",
   "mimetype": "text/x-python",
   "name": "python",
   "nbconvert_exporter": "python",
   "pygments_lexer": "ipython3",
   "version": "3.9.7"
  },
  "vscode": {
   "interpreter": {
    "hash": "e45d8d126239bf8a7e9885e3bff8c6abf09d9a0fa988a93c0a0f2d983359ed62"
   }
  }
 },
 "nbformat": 4,
 "nbformat_minor": 2
}
